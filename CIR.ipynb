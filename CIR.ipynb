{
  "nbformat": 4,
  "nbformat_minor": 0,
  "metadata": {
    "colab": {
      "provenance": [],
      "authorship_tag": "ABX9TyPvm2xEhA4U5GztP2IxmIwV",
      "include_colab_link": true
    },
    "kernelspec": {
      "name": "python3",
      "display_name": "Python 3"
    },
    "language_info": {
      "name": "python"
    }
  },
  "cells": [
    {
      "cell_type": "markdown",
      "metadata": {
        "id": "view-in-github",
        "colab_type": "text"
      },
      "source": [
        "<a href=\"https://colab.research.google.com/github/newmantic/CIR/blob/main/CIR.ipynb\" target=\"_parent\"><img src=\"https://colab.research.google.com/assets/colab-badge.svg\" alt=\"Open In Colab\"/></a>"
      ]
    },
    {
      "cell_type": "code",
      "execution_count": 1,
      "metadata": {
        "id": "SMBlyWFUm1C9"
      },
      "outputs": [],
      "source": [
        "import numpy as np\n",
        "\n",
        "def simulate_cir(r0, kappa, theta, sigma, T, N):\n",
        "    \"\"\"\n",
        "    Simulate short rate paths using the Cox-Ingersoll-Ross (CIR) model.\n",
        "\n",
        "    Args:\n",
        "        r0 (float): Initial short rate.\n",
        "        kappa (float): Speed of mean reversion.\n",
        "        theta (float): Long-term mean rate.\n",
        "        sigma (float): Volatility of the short rate.\n",
        "        T (float): Total time horizon.\n",
        "        N (int): Number of time steps.\n",
        "\n",
        "    Returns:\n",
        "        np.ndarray: Simulated short rate path.\n",
        "    \"\"\"\n",
        "    dt = T / N  # Time step size\n",
        "    rates = np.zeros(N)\n",
        "    rates[0] = r0\n",
        "\n",
        "    for i in range(1, N):\n",
        "        dW = np.random.normal(0, np.sqrt(dt))\n",
        "        rates[i] = rates[i-1] + kappa * (theta - rates[i-1]) * dt + sigma * np.sqrt(rates[i-1]) * dW\n",
        "\n",
        "        # Ensure rates stay positive\n",
        "        if rates[i] < 0:\n",
        "            rates[i] = 0\n",
        "\n",
        "    return rates"
      ]
    },
    {
      "cell_type": "code",
      "source": [
        "def bond_price_cir(r, kappa, theta, sigma, T, t=0):\n",
        "    \"\"\"\n",
        "    Calculate the price of a zero-coupon bond using the CIR model.\n",
        "\n",
        "    Args:\n",
        "        r (float): Current short rate.\n",
        "        kappa (float): Speed of mean reversion.\n",
        "        theta (float): Long-term mean rate.\n",
        "        sigma (float): Volatility of the short rate.\n",
        "        T (float): Maturity of the bond.\n",
        "        t (float): Current time (default is 0).\n",
        "\n",
        "    Returns:\n",
        "        float: Price of the zero-coupon bond.\n",
        "    \"\"\"\n",
        "    h1 = np.sqrt(kappa**2 + 2 * sigma**2)\n",
        "    h2 = (kappa + h1) / 2\n",
        "    h3 = 2 * kappa * theta / sigma**2\n",
        "\n",
        "    B = (1 - np.exp(-h1 * (T - t))) / h2\n",
        "    A = (h1 * np.exp(h2 * (T - t)) / (h2 * (np.exp(h1 * (T - t)) - 1) + h1))**h3\n",
        "\n",
        "    bond_price = A * np.exp(-B * r)\n",
        "    return bond_price"
      ],
      "metadata": {
        "id": "kEkrxn1cnMwr"
      },
      "execution_count": 3,
      "outputs": []
    },
    {
      "cell_type": "code",
      "source": [
        "# Example parameters\n",
        "r0 = 0.03  # Initial short rate\n",
        "kappa = 0.5  # Speed of mean reversion\n",
        "theta = 0.04  # Long-term mean rate\n",
        "sigma = 0.02  # Volatility\n",
        "T = 1.0  # Total time horizon (1 year)\n",
        "N = 100  # Number of time steps\n",
        "\n",
        "# Simulate the short rate path\n",
        "short_rate_path = simulate_cir(r0, kappa, theta, sigma, T, N)\n",
        "print(\"Simulated Short Rate Path:\")\n",
        "print(short_rate_path)"
      ],
      "metadata": {
        "colab": {
          "base_uri": "https://localhost:8080/"
        },
        "id": "VTpByNSKnOt7",
        "outputId": "9998132e-bf78-4cb6-a463-8293486cd1d3"
      },
      "execution_count": 4,
      "outputs": [
        {
          "output_type": "stream",
          "name": "stdout",
          "text": [
            "Simulated Short Rate Path:\n",
            "[0.03       0.02967113 0.02980541 0.03012821 0.03013989 0.03008448\n",
            " 0.03060004 0.03060144 0.03114744 0.03135454 0.03161485 0.03243457\n",
            " 0.03228882 0.03219789 0.03191601 0.03164329 0.03114448 0.03102433\n",
            " 0.03147178 0.03144065 0.0317296  0.0319483  0.0313137  0.03063942\n",
            " 0.03104217 0.03130538 0.0312712  0.03151683 0.03125102 0.03154681\n",
            " 0.03166675 0.03166435 0.03196627 0.03221421 0.03223442 0.03270095\n",
            " 0.0331118  0.03341932 0.03373622 0.03374812 0.03371962 0.03352418\n",
            " 0.03332817 0.03348655 0.03447677 0.03446931 0.0346714  0.03402794\n",
            " 0.03406724 0.03395886 0.03452604 0.0341986  0.03445414 0.03520744\n",
            " 0.03497712 0.03528517 0.03588069 0.03637456 0.03628056 0.03621429\n",
            " 0.03620832 0.03609154 0.03641486 0.03688509 0.03698522 0.0373878\n",
            " 0.0376485  0.03794864 0.03836101 0.03830899 0.03837473 0.03814911\n",
            " 0.03708604 0.03698335 0.03717448 0.03734877 0.03715782 0.03720171\n",
            " 0.03710383 0.03704136 0.0371853  0.03750696 0.03703634 0.03743537\n",
            " 0.03706946 0.03705649 0.03719936 0.03712542 0.03741358 0.03637532\n",
            " 0.03637583 0.03625562 0.03605915 0.03631126 0.03655696 0.03738817\n",
            " 0.03795485 0.03830463 0.03869169 0.03831682]\n"
          ]
        }
      ]
    },
    {
      "cell_type": "code",
      "source": [
        "# Example parameters\n",
        "r = 0.03  # Current short rate\n",
        "kappa = 0.5  # Speed of mean reversion\n",
        "theta = 0.04  # Long-term mean rate\n",
        "sigma = 0.02  # Volatility\n",
        "T = 2.0  # Maturity of the bond (2 years)\n",
        "\n",
        "# Calculate the bond price\n",
        "bond_price = bond_price_cir(r, kappa, theta, sigma, T)\n",
        "print(f\"Price of the Zero-Coupon Bond: {bond_price:.4f}\")"
      ],
      "metadata": {
        "colab": {
          "base_uri": "https://localhost:8080/"
        },
        "id": "wwmoa3z-nR-t",
        "outputId": "a7b4fc4c-bf45-49e9-b6c5-4231c637e588"
      },
      "execution_count": 5,
      "outputs": [
        {
          "output_type": "stream",
          "name": "stdout",
          "text": [
            "Price of the Zero-Coupon Bond: 0.9349\n"
          ]
        }
      ]
    }
  ]
}